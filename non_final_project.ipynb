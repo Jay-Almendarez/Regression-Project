{
 "cells": [
  {
   "cell_type": "code",
   "execution_count": 1,
   "id": "49702552-cd0c-40e8-b66b-505105b6ae1b",
   "metadata": {
    "tags": []
   },
   "outputs": [],
   "source": [
    "import pandas as pd\n",
    "import numpy as np\n",
    "import warnings\n",
    "warnings.filterwarnings(\"ignore\")\n",
    "from scipy import stats\n",
    "from sklearn.model_selection import train_test_split\n",
    "from sklearn.metrics import mean_squared_error, r2_score\n",
    "from sklearn.linear_model import LinearRegression, LassoLars, TweedieRegressor\n",
    "from sklearn.preprocessing import PolynomialFeatures\n",
    "import sklearn.preprocessing\n",
    "import matplotlib.pyplot as plt\n",
    "import seaborn as sns\n",
    "from wrangle import wrangle_zillow\n",
    "from evaluate import baseline_mean_errors, better_than_baseline, regression_errors, plot_residuals, mets, eval_score, more_table\n",
    "from explore import plot_categorical_and_continuous_vars, plot_variable_pairs\n",
    "from sklearn.feature_selection import SelectKBest, f_regression, RFE"
   ]
  },
  {
   "cell_type": "markdown",
   "id": "6e44efac-8c74-4db3-ad55-4a800bce8ba8",
   "metadata": {},
   "source": [
    "## Acquisition and Preparation"
   ]
  },
  {
   "cell_type": "code",
   "execution_count": 2,
   "id": "e346beba-118f-4d74-b50e-83ddeaefdfd4",
   "metadata": {
    "tags": []
   },
   "outputs": [],
   "source": [
    "# grabbing data, cleaning, and splitting\n",
    "df = wrangle_zillow()\n",
    "df = df.drop(columns='parcelid')\n",
    "train_and_validate, test = train_test_split(df, random_state=117)\n",
    "train, validate = train_test_split(train_and_validate)\n",
    "\n",
    "x_train = train.drop(columns={'beds', 'value', 'year_built', 'county'})\n",
    "y_train = train['value']\n",
    "x_validate = validate.drop(columns={'beds', 'value', 'year_built', 'county'})\n",
    "y_validate = validate['value']\n",
    "x_test = test.drop(columns={'beds', 'value', 'year_built', 'county'})\n",
    "y_test = test['value']"
   ]
  },
  {
   "cell_type": "code",
   "execution_count": 3,
   "id": "b5c9349f-a697-4c29-8e41-389325900f2f",
   "metadata": {
    "tags": []
   },
   "outputs": [
    {
     "data": {
      "text/html": [
       "<div>\n",
       "<style scoped>\n",
       "    .dataframe tbody tr th:only-of-type {\n",
       "        vertical-align: middle;\n",
       "    }\n",
       "\n",
       "    .dataframe tbody tr th {\n",
       "        vertical-align: top;\n",
       "    }\n",
       "\n",
       "    .dataframe thead th {\n",
       "        text-align: right;\n",
       "    }\n",
       "</style>\n",
       "<table border=\"1\" class=\"dataframe\">\n",
       "  <thead>\n",
       "    <tr style=\"text-align: right;\">\n",
       "      <th></th>\n",
       "      <th>beds</th>\n",
       "      <th>baths</th>\n",
       "      <th>square_feet</th>\n",
       "      <th>value</th>\n",
       "      <th>year_built</th>\n",
       "      <th>county</th>\n",
       "    </tr>\n",
       "  </thead>\n",
       "  <tbody>\n",
       "    <tr>\n",
       "      <th>1330001</th>\n",
       "      <td>2</td>\n",
       "      <td>1.0</td>\n",
       "      <td>952</td>\n",
       "      <td>45921</td>\n",
       "      <td>1928</td>\n",
       "      <td>6037.0</td>\n",
       "    </tr>\n",
       "    <tr>\n",
       "      <th>1394831</th>\n",
       "      <td>2</td>\n",
       "      <td>1.0</td>\n",
       "      <td>870</td>\n",
       "      <td>289948</td>\n",
       "      <td>1942</td>\n",
       "      <td>6037.0</td>\n",
       "    </tr>\n",
       "    <tr>\n",
       "      <th>786180</th>\n",
       "      <td>4</td>\n",
       "      <td>2.0</td>\n",
       "      <td>1726</td>\n",
       "      <td>442448</td>\n",
       "      <td>1955</td>\n",
       "      <td>6111.0</td>\n",
       "    </tr>\n",
       "    <tr>\n",
       "      <th>224253</th>\n",
       "      <td>4</td>\n",
       "      <td>3.0</td>\n",
       "      <td>2435</td>\n",
       "      <td>683452</td>\n",
       "      <td>1963</td>\n",
       "      <td>6059.0</td>\n",
       "    </tr>\n",
       "    <tr>\n",
       "      <th>1161127</th>\n",
       "      <td>5</td>\n",
       "      <td>6.5</td>\n",
       "      <td>6521</td>\n",
       "      <td>1840000</td>\n",
       "      <td>1991</td>\n",
       "      <td>6059.0</td>\n",
       "    </tr>\n",
       "  </tbody>\n",
       "</table>\n",
       "</div>"
      ],
      "text/plain": [
       "         beds  baths  square_feet    value  year_built  county\n",
       "1330001     2    1.0          952    45921        1928  6037.0\n",
       "1394831     2    1.0          870   289948        1942  6037.0\n",
       "786180      4    2.0         1726   442448        1955  6111.0\n",
       "224253      4    3.0         2435   683452        1963  6059.0\n",
       "1161127     5    6.5         6521  1840000        1991  6059.0"
      ]
     },
     "execution_count": 3,
     "metadata": {},
     "output_type": "execute_result"
    }
   ],
   "source": [
    "# a quick look to see what we're seeing\n",
    "train.sample(5)"
   ]
  },
  {
   "cell_type": "markdown",
   "id": "f95aef1c-df2e-4d0c-ac84-3eec2f298c6c",
   "metadata": {},
   "source": [
    "## Exploration"
   ]
  },
  {
   "cell_type": "code",
   "execution_count": 4,
   "id": "9ba328e7-8d72-43e0-84e7-d5490a7f39e6",
   "metadata": {
    "tags": []
   },
   "outputs": [
    {
     "data": {
      "text/html": [
       "<div>\n",
       "<style scoped>\n",
       "    .dataframe tbody tr th:only-of-type {\n",
       "        vertical-align: middle;\n",
       "    }\n",
       "\n",
       "    .dataframe tbody tr th {\n",
       "        vertical-align: top;\n",
       "    }\n",
       "\n",
       "    .dataframe thead th {\n",
       "        text-align: right;\n",
       "    }\n",
       "</style>\n",
       "<table border=\"1\" class=\"dataframe\">\n",
       "  <thead>\n",
       "    <tr style=\"text-align: right;\">\n",
       "      <th></th>\n",
       "      <th>beds</th>\n",
       "      <th>baths</th>\n",
       "      <th>square_feet</th>\n",
       "      <th>value</th>\n",
       "      <th>year_built</th>\n",
       "      <th>county</th>\n",
       "    </tr>\n",
       "  </thead>\n",
       "  <tbody>\n",
       "    <tr>\n",
       "      <th>beds</th>\n",
       "      <td>1.000000</td>\n",
       "      <td>0.640202</td>\n",
       "      <td>0.610058</td>\n",
       "      <td>0.258916</td>\n",
       "      <td>0.378617</td>\n",
       "      <td>0.136696</td>\n",
       "    </tr>\n",
       "    <tr>\n",
       "      <th>baths</th>\n",
       "      <td>0.640202</td>\n",
       "      <td>1.000000</td>\n",
       "      <td>0.838828</td>\n",
       "      <td>0.504058</td>\n",
       "      <td>0.512008</td>\n",
       "      <td>0.099294</td>\n",
       "    </tr>\n",
       "    <tr>\n",
       "      <th>square_feet</th>\n",
       "      <td>0.610058</td>\n",
       "      <td>0.838828</td>\n",
       "      <td>1.000000</td>\n",
       "      <td>0.608380</td>\n",
       "      <td>0.439698</td>\n",
       "      <td>0.094913</td>\n",
       "    </tr>\n",
       "    <tr>\n",
       "      <th>value</th>\n",
       "      <td>0.258916</td>\n",
       "      <td>0.504058</td>\n",
       "      <td>0.608380</td>\n",
       "      <td>1.000000</td>\n",
       "      <td>0.189289</td>\n",
       "      <td>0.017245</td>\n",
       "    </tr>\n",
       "    <tr>\n",
       "      <th>year_built</th>\n",
       "      <td>0.378617</td>\n",
       "      <td>0.512008</td>\n",
       "      <td>0.439698</td>\n",
       "      <td>0.189289</td>\n",
       "      <td>1.000000</td>\n",
       "      <td>0.301407</td>\n",
       "    </tr>\n",
       "    <tr>\n",
       "      <th>county</th>\n",
       "      <td>0.136696</td>\n",
       "      <td>0.099294</td>\n",
       "      <td>0.094913</td>\n",
       "      <td>0.017245</td>\n",
       "      <td>0.301407</td>\n",
       "      <td>1.000000</td>\n",
       "    </tr>\n",
       "  </tbody>\n",
       "</table>\n",
       "</div>"
      ],
      "text/plain": [
       "                 beds     baths  square_feet     value  year_built    county\n",
       "beds         1.000000  0.640202     0.610058  0.258916    0.378617  0.136696\n",
       "baths        0.640202  1.000000     0.838828  0.504058    0.512008  0.099294\n",
       "square_feet  0.610058  0.838828     1.000000  0.608380    0.439698  0.094913\n",
       "value        0.258916  0.504058     0.608380  1.000000    0.189289  0.017245\n",
       "year_built   0.378617  0.512008     0.439698  0.189289    1.000000  0.301407\n",
       "county       0.136696  0.099294     0.094913  0.017245    0.301407  1.000000"
      ]
     },
     "execution_count": 4,
     "metadata": {},
     "output_type": "execute_result"
    }
   ],
   "source": [
    "# visualizing correlation of features\n",
    "value_corr = train.corr()\n",
    "value_corr"
   ]
  },
  {
   "cell_type": "markdown",
   "id": "6648c3bf-a4dc-4f6d-aecf-9a73174d0755",
   "metadata": {},
   "source": [
    "## Select a dataset with a continuous target variable."
   ]
  },
  {
   "cell_type": "code",
   "execution_count": 6,
   "id": "4cfe20d3-9958-42e2-bf1c-7e8014021126",
   "metadata": {
    "tags": []
   },
   "outputs": [
    {
     "data": {
      "text/html": [
       "<div>\n",
       "<style scoped>\n",
       "    .dataframe tbody tr th:only-of-type {\n",
       "        vertical-align: middle;\n",
       "    }\n",
       "\n",
       "    .dataframe tbody tr th {\n",
       "        vertical-align: top;\n",
       "    }\n",
       "\n",
       "    .dataframe thead th {\n",
       "        text-align: right;\n",
       "    }\n",
       "</style>\n",
       "<table border=\"1\" class=\"dataframe\">\n",
       "  <thead>\n",
       "    <tr style=\"text-align: right;\">\n",
       "      <th></th>\n",
       "      <th>beds</th>\n",
       "      <th>baths</th>\n",
       "      <th>square_feet</th>\n",
       "      <th>value</th>\n",
       "      <th>year_built</th>\n",
       "      <th>county</th>\n",
       "      <th>parcelid</th>\n",
       "    </tr>\n",
       "  </thead>\n",
       "  <tbody>\n",
       "    <tr>\n",
       "      <th>4</th>\n",
       "      <td>4</td>\n",
       "      <td>2.0</td>\n",
       "      <td>3633</td>\n",
       "      <td>296425</td>\n",
       "      <td>2005</td>\n",
       "      <td>6037.0</td>\n",
       "      <td>11324547</td>\n",
       "    </tr>\n",
       "    <tr>\n",
       "      <th>6</th>\n",
       "      <td>3</td>\n",
       "      <td>4.0</td>\n",
       "      <td>1620</td>\n",
       "      <td>847770</td>\n",
       "      <td>2011</td>\n",
       "      <td>6037.0</td>\n",
       "      <td>11544747</td>\n",
       "    </tr>\n",
       "    <tr>\n",
       "      <th>7</th>\n",
       "      <td>3</td>\n",
       "      <td>2.0</td>\n",
       "      <td>2077</td>\n",
       "      <td>646760</td>\n",
       "      <td>1926</td>\n",
       "      <td>6037.0</td>\n",
       "      <td>11585547</td>\n",
       "    </tr>\n",
       "    <tr>\n",
       "      <th>18</th>\n",
       "      <td>3</td>\n",
       "      <td>1.0</td>\n",
       "      <td>1244</td>\n",
       "      <td>169471</td>\n",
       "      <td>1950</td>\n",
       "      <td>6037.0</td>\n",
       "      <td>12716947</td>\n",
       "    </tr>\n",
       "    <tr>\n",
       "      <th>19</th>\n",
       "      <td>3</td>\n",
       "      <td>2.0</td>\n",
       "      <td>1300</td>\n",
       "      <td>233266</td>\n",
       "      <td>1950</td>\n",
       "      <td>6037.0</td>\n",
       "      <td>12757147</td>\n",
       "    </tr>\n",
       "  </tbody>\n",
       "</table>\n",
       "</div>"
      ],
      "text/plain": [
       "    beds  baths  square_feet   value  year_built  county  parcelid\n",
       "4      4    2.0         3633  296425        2005  6037.0  11324547\n",
       "6      3    4.0         1620  847770        2011  6037.0  11544747\n",
       "7      3    2.0         2077  646760        1926  6037.0  11585547\n",
       "18     3    1.0         1244  169471        1950  6037.0  12716947\n",
       "19     3    2.0         1300  233266        1950  6037.0  12757147"
      ]
     },
     "execution_count": 6,
     "metadata": {},
     "output_type": "execute_result"
    }
   ],
   "source": [
    "df = wrangle_zillow()\n",
    "df.head()"
   ]
  },
  {
   "cell_type": "markdown",
   "id": "1f9f0bf2-108c-49a5-8d21-fa61d0255fa6",
   "metadata": {},
   "source": [
    "## Be sure your data is prepared (no missing values, numeric datatypes) and split into samples."
   ]
  },
  {
   "cell_type": "code",
   "execution_count": 7,
   "id": "e2721311-6453-42ee-8896-b79637083e90",
   "metadata": {
    "tags": []
   },
   "outputs": [
    {
     "data": {
      "text/plain": [
       "beds             int64\n",
       "baths          float64\n",
       "square_feet      int64\n",
       "value            int64\n",
       "year_built       int64\n",
       "county         float64\n",
       "parcelid         int64\n",
       "dtype: object"
      ]
     },
     "execution_count": 7,
     "metadata": {},
     "output_type": "execute_result"
    }
   ],
   "source": [
    "# the data is all in numeric form\n",
    "df.dtypes"
   ]
  },
  {
   "cell_type": "code",
   "execution_count": 8,
   "id": "4b6c336f-255b-43d3-a6c6-75c4ab79f7ed",
   "metadata": {
    "tags": []
   },
   "outputs": [
    {
     "data": {
      "text/plain": [
       "beds           0\n",
       "baths          0\n",
       "square_feet    0\n",
       "value          0\n",
       "year_built     0\n",
       "county         0\n",
       "parcelid       0\n",
       "dtype: int64"
      ]
     },
     "execution_count": 8,
     "metadata": {},
     "output_type": "execute_result"
    }
   ],
   "source": [
    "# making sure there's no nulls\n",
    "df.isnull().sum()"
   ]
  },
  {
   "cell_type": "code",
   "execution_count": 9,
   "id": "92d44279-0644-4919-89d9-bf899250a1ca",
   "metadata": {
    "tags": []
   },
   "outputs": [],
   "source": [
    "# splitting the data\n",
    "train_and_validate, test = train_test_split(df, random_state=117)\n",
    "train, validate = train_test_split(train_and_validate)\n",
    "\n",
    "x_train = train.drop(columns={'value'})\n",
    "y_train = train['value']\n",
    "x_validate = validate.drop(columns={'value'})\n",
    "y_validate = validate['value']\n",
    "x_test = test.drop(columns={'value'})\n",
    "y_test = test['value']"
   ]
  },
  {
   "cell_type": "markdown",
   "id": "473cba75-514a-4b9a-a96c-6d9492f676b1",
   "metadata": {},
   "source": [
    "### Determining the best scaler"
   ]
  },
  {
   "cell_type": "code",
   "execution_count": 10,
   "id": "5ba6667c-8529-495f-ba70-fdaec35eb903",
   "metadata": {
    "collapsed": true,
    "jupyter": {
     "outputs_hidden": true
    },
    "tags": []
   },
   "outputs": [
    {
     "data": {
      "image/png": "[encoded data removed]",
      "text/plain": [
       "<Figure size 2000x1000 with 2 Axes>"
      ]
     },
     "metadata": {},
     "output_type": "display_data"
    },
    {
     "data": {
      "image/png": "[encoded data removed]",
      "text/plain": [
       "<Figure size 2000x1000 with 2 Axes>"
      ]
     },
     "metadata": {},
     "output_type": "display_data"
    },
    {
     "data": {
      "image/png": "[encoded data removed]",
      "text/plain": [
       "<Figure size 2000x1000 with 2 Axes>"
      ]
     },
     "metadata": {},
     "output_type": "display_data"
    },
    {
     "data": {
      "image/png": "[encoded data removed]",
      "text/plain": [
       "<Figure size 2000x1000 with 2 Axes>"
      ]
     },
     "metadata": {},
     "output_type": "display_data"
    }
   ],
   "source": [
    "# Determining best scaler to use with data\n",
    "scaler = sklearn.preprocessing.StandardScaler()\n",
    "scaler.fit(x_train)\n",
    "x_train_scaled = scaler.transform(x_train)\n",
    "\n",
    "\n",
    "plt.figure(figsize=(20, 10))\n",
    "plt.subplot(121)\n",
    "plt.hist(x_train, bins=25, ec='black')\n",
    "plt.title('Original')\n",
    "plt.subplot(122)\n",
    "plt.hist(x_train_scaled, bins=25, ec='black')\n",
    "plt.title('Scaled with Standard')\n",
    "plt.show()\n",
    "\n",
    "\n",
    "scaler = sklearn.preprocessing.MinMaxScaler()\n",
    "scaler.fit(x_train)\n",
    "x_train_scaled = scaler.transform(x_train)\n",
    "\n",
    "\n",
    "plt.figure(figsize=(20, 10))\n",
    "plt.subplot(121)\n",
    "plt.hist(x_train, bins=25, ec='black')\n",
    "plt.title('Original')\n",
    "plt.subplot(122)\n",
    "plt.hist(x_train_scaled, bins=25, ec='black')\n",
    "plt.title('Scaled with MinMax')\n",
    "plt.show()\n",
    "\n",
    "\n",
    "scaler = sklearn.preprocessing.RobustScaler()\n",
    "scaler.fit(x_train)\n",
    "x_train_scaled = scaler.transform(x_train)\n",
    "\n",
    "\n",
    "plt.figure(figsize=(20, 10))\n",
    "plt.subplot(121)\n",
    "plt.hist(x_train, bins=25, ec='black')\n",
    "plt.title('Original')\n",
    "plt.subplot(122)\n",
    "plt.hist(x_train_scaled, bins=25, ec='black')\n",
    "plt.title('Scaled with Robust')\n",
    "plt.show()\n",
    "\n",
    "\n",
    "scaler = sklearn.preprocessing.QuantileTransformer()\n",
    "scaler.fit(x_train)\n",
    "x_train_scaled = scaler.transform(x_train)\n",
    "\n",
    "\n",
    "plt.figure(figsize=(20, 10))\n",
    "plt.subplot(121)\n",
    "plt.hist(x_train, bins=25, ec='black')\n",
    "plt.title('Original')\n",
    "plt.subplot(122)\n",
    "plt.hist(x_train_scaled, bins=25, ec='black')\n",
    "plt.title('Scaled with QT')\n",
    "plt.show()"
   ]
  },
  {
   "cell_type": "code",
   "execution_count": 11,
   "id": "d19400d3-bbab-40bf-9a4e-dc698d779874",
   "metadata": {
    "tags": []
   },
   "outputs": [],
   "source": [
    "# Scaling the data to Robust scaler since it performed the best\n",
    "scaler = sklearn.preprocessing.RobustScaler()\n",
    "scaler.fit(x_train)\n",
    "x_train_scaled = scaler.transform(x_train)\n",
    "x_validate_scaled = scaler.transform(x_validate)\n",
    "x_test_scaled = scaler.transform(x_test)"
   ]
  },
  {
   "cell_type": "code",
   "execution_count": 12,
   "id": "cccca7f2-5b7d-4ecb-b077-b12c8e4f451b",
   "metadata": {
    "tags": []
   },
   "outputs": [],
   "source": [
    "lr1 = LinearRegression()\n",
    "rfe = RFE(lr1, n_features_to_select=1)\n",
    "rfe.fit(x_train_scaled, y_train)\n",
    "rfe_train_feature = rfe.transform(x_train_scaled)\n",
    "rfe_validate_feature = rfe.transform(x_validate_scaled)"
   ]
  },
  {
   "cell_type": "code",
   "execution_count": 13,
   "id": "22c6e7df-e13a-4732-9179-efca014303d6",
   "metadata": {
    "tags": []
   },
   "outputs": [
    {
     "data": {
      "text/plain": [
       "array(['x2'], dtype=object)"
      ]
     },
     "execution_count": 13,
     "metadata": {},
     "output_type": "execute_result"
    }
   ],
   "source": [
    "lr1 = LinearRegression()\n",
    "rfe = RFE(lr1, n_features_to_select=1)\n",
    "rfe.fit(x_train_scaled, y_train)\n",
    "rfe_train_feature = rfe.transform(x_train_scaled)\n",
    "rfe_validate_feature = rfe.transform(x_validate_scaled)\n",
    "rfe.get_feature_names_out()"
   ]
  },
  {
   "cell_type": "markdown",
   "id": "e866fd9f-2ba8-4675-84d8-2be43c674350",
   "metadata": {
    "tags": []
   },
   "source": [
    "sns.histplot(y_train)\n",
    "plt.xlim([0, 2000000])\n",
    "plt.show()"
   ]
  },
  {
   "cell_type": "markdown",
   "id": "ea055729-c221-4a05-a7ed-873e3f4a90a1",
   "metadata": {},
   "source": [
    "## Work through all of the steps outlined in the lesson, from setting the baseline to selected a model and evaluating the final model on your test data."
   ]
  },
  {
   "cell_type": "markdown",
   "id": "f660b153-87e1-4955-b9fd-ce0863bdfb9b",
   "metadata": {
    "tags": []
   },
   "source": [
    "### Establishing baseline and making a dataframe to visually reference easier"
   ]
  },
  {
   "cell_type": "code",
   "execution_count": 14,
   "id": "e5fef829-c83d-4d10-a679-078184518b04",
   "metadata": {
    "tags": []
   },
   "outputs": [],
   "source": [
    "def mets(y, y_pred):\n",
    "    rmse = mean_squared_error(y, y_pred, squared=False)\n",
    "    r2 = r2_score(y, y_pred)\n",
    "    return rmse, r2"
   ]
  },
  {
   "cell_type": "code",
   "execution_count": 15,
   "id": "f7992a3c-9a08-4c5a-9001-d8055dffdbb1",
   "metadata": {
    "tags": []
   },
   "outputs": [],
   "source": [
    "baseline =y_train.mean()\n",
    "baseline_array = np.repeat(baseline, len(train))\n",
    "rmse, r2 = mets(y_train, baseline_array)\n",
    "mets_df = pd.DataFrame(data=[{'Model':'Baseline', 'RMSE':rmse, 'R2':r2}])\n",
    "\n",
    "train_target_pred_mean = y_train.mean()\n",
    "validate_target_pred_mean = y_validate.mean()\n",
    "\n",
    "\n",
    "train_target_pred_median = y_train.median()\n",
    "validate_target_pred_median = y_validate.median()"
   ]
  },
  {
   "cell_type": "code",
   "execution_count": 16,
   "id": "449cd3d4-a4e6-4a26-b779-a6d01d71cd40",
   "metadata": {
    "tags": []
   },
   "outputs": [
    {
     "data": {
      "text/html": [
       "<div>\n",
       "<style scoped>\n",
       "    .dataframe tbody tr th:only-of-type {\n",
       "        vertical-align: middle;\n",
       "    }\n",
       "\n",
       "    .dataframe tbody tr th {\n",
       "        vertical-align: top;\n",
       "    }\n",
       "\n",
       "    .dataframe thead th {\n",
       "        text-align: right;\n",
       "    }\n",
       "</style>\n",
       "<table border=\"1\" class=\"dataframe\">\n",
       "  <thead>\n",
       "    <tr style=\"text-align: right;\">\n",
       "      <th></th>\n",
       "      <th>Model</th>\n",
       "      <th>RMSE</th>\n",
       "      <th>R2</th>\n",
       "    </tr>\n",
       "  </thead>\n",
       "  <tbody>\n",
       "    <tr>\n",
       "      <th>0</th>\n",
       "      <td>Baseline</td>\n",
       "      <td>675932.040919</td>\n",
       "      <td>0.0</td>\n",
       "    </tr>\n",
       "  </tbody>\n",
       "</table>\n",
       "</div>"
      ],
      "text/plain": [
       "      Model           RMSE   R2\n",
       "0  Baseline  675932.040919  0.0"
      ]
     },
     "execution_count": 16,
     "metadata": {},
     "output_type": "execute_result"
    }
   ],
   "source": [
    "mets_df"
   ]
  },
  {
   "cell_type": "markdown",
   "id": "2d17ded5-75e1-4ce8-8bc3-dc8038dd4d8e",
   "metadata": {},
   "source": [
    "### Now to try out different models and see what's optimal"
   ]
  },
  {
   "cell_type": "code",
   "execution_count": 17,
   "id": "29557a23-dc96-4c13-be85-b02a0f40e0a8",
   "metadata": {},
   "outputs": [
    {
     "data": {
      "text/plain": [
       "(536877.200991428, 0.3691242180654011)"
      ]
     },
     "execution_count": 17,
     "metadata": {},
     "output_type": "execute_result"
    }
   ],
   "source": [
    "score_df = pd.DataFrame(data=[{'Model':'Baseline', 'RMSE':rmse, 'R2':r2}])\n",
    "lr1.fit(rfe_train_feature, y_train)\n",
    "pred_train_lr1 = lr1.predict(rfe_train_feature)\n",
    "pred_validate_lr1 = lr1.predict(rfe_validate_feature)\n",
    "pred_train_lr1\n",
    "\n",
    "\n",
    "mets(y_train, pred_train_lr1)"
   ]
  },
  {
   "cell_type": "markdown",
   "id": "b1010fe7-06eb-47bd-a581-96d98880dba5",
   "metadata": {},
   "source": [
    "#### LinearRegression (OLS)"
   ]
  },
  {
   "cell_type": "code",
   "execution_count": 18,
   "id": "57781cb7-db20-4443-93d4-ec78e8257d6a",
   "metadata": {
    "tags": []
   },
   "outputs": [
    {
     "data": {
      "text/plain": [
       "array([155356.61721635, 424739.44055012, 371718.0594495 , ...,\n",
       "       591500.23594722, 240447.38204717, 494864.49297352])"
      ]
     },
     "execution_count": 18,
     "metadata": {},
     "output_type": "execute_result"
    }
   ],
   "source": [
    "lr1.fit(rfe_train_feature, y_train)\n",
    "pred_train_lr1 = lr1.predict(rfe_train_feature)\n",
    "pred_validate_lr1 = lr1.predict(rfe_validate_feature)\n",
    "pred_train_lr1"
   ]
  },
  {
   "cell_type": "code",
   "execution_count": 19,
   "id": "ccb84c64-bcbf-403e-876a-649f064eb19c",
   "metadata": {
    "tags": []
   },
   "outputs": [
    {
     "data": {
      "text/plain": [
       "(536877.200991428, 0.3691242180654011)"
      ]
     },
     "execution_count": 19,
     "metadata": {},
     "output_type": "execute_result"
    }
   ],
   "source": [
    "mets(y_train, pred_train_lr1)"
   ]
  },
  {
   "cell_type": "code",
   "execution_count": 20,
   "id": "6ae39382-6a0e-4930-9e02-56e70c5ec4b7",
   "metadata": {
    "tags": []
   },
   "outputs": [
    {
     "data": {
      "text/plain": [
       "(561893.0813703171, 0.36759024121182493)"
      ]
     },
     "execution_count": 20,
     "metadata": {},
     "output_type": "execute_result"
    }
   ],
   "source": [
    "val_rmse, val_r2 = mets(y_validate, pred_validate_lr1)\n",
    "val_rmse, val_r2"
   ]
  },
  {
   "cell_type": "code",
   "execution_count": 21,
   "id": "e631c521-8784-4170-887f-ccda3f6e0e78",
   "metadata": {
    "tags": []
   },
   "outputs": [
    {
     "data": {
      "text/html": [
       "<div>\n",
       "<style scoped>\n",
       "    .dataframe tbody tr th:only-of-type {\n",
       "        vertical-align: middle;\n",
       "    }\n",
       "\n",
       "    .dataframe tbody tr th {\n",
       "        vertical-align: top;\n",
       "    }\n",
       "\n",
       "    .dataframe thead th {\n",
       "        text-align: right;\n",
       "    }\n",
       "</style>\n",
       "<table border=\"1\" class=\"dataframe\">\n",
       "  <thead>\n",
       "    <tr style=\"text-align: right;\">\n",
       "      <th></th>\n",
       "      <th>Model</th>\n",
       "      <th>RMSE</th>\n",
       "      <th>R2</th>\n",
       "    </tr>\n",
       "  </thead>\n",
       "  <tbody>\n",
       "    <tr>\n",
       "      <th>0</th>\n",
       "      <td>Baseline</td>\n",
       "      <td>675932.040919</td>\n",
       "      <td>0.00000</td>\n",
       "    </tr>\n",
       "    <tr>\n",
       "      <th>1</th>\n",
       "      <td>OLS_1</td>\n",
       "      <td>561893.081370</td>\n",
       "      <td>0.36759</td>\n",
       "    </tr>\n",
       "  </tbody>\n",
       "</table>\n",
       "</div>"
      ],
      "text/plain": [
       "      Model           RMSE       R2\n",
       "0  Baseline  675932.040919  0.00000\n",
       "1     OLS_1  561893.081370  0.36759"
      ]
     },
     "execution_count": 21,
     "metadata": {},
     "output_type": "execute_result"
    }
   ],
   "source": [
    "mets_df.loc[1] = ['OLS_1', val_rmse, val_r2]\n",
    "mets_df"
   ]
  },
  {
   "cell_type": "code",
   "execution_count": 22,
   "id": "908cf0c2-a21d-4a58-9099-16180af35f0b",
   "metadata": {
    "tags": []
   },
   "outputs": [
    {
     "data": {
      "text/plain": [
       "358035.1223912809"
      ]
     },
     "execution_count": 22,
     "metadata": {},
     "output_type": "execute_result"
    }
   ],
   "source": [
    "lr1.intercept_"
   ]
  },
  {
   "cell_type": "code",
   "execution_count": 23,
   "id": "15754d42-1ad6-4177-90b5-fb3244e6982f",
   "metadata": {
    "tags": []
   },
   "outputs": [
    {
     "data": {
      "text/plain": [
       "array([406212.19391601])"
      ]
     },
     "execution_count": 23,
     "metadata": {},
     "output_type": "execute_result"
    }
   ],
   "source": [
    "lr1.coef_"
   ]
  },
  {
   "cell_type": "code",
   "execution_count": 24,
   "id": "a2b48818-8d28-4b23-b700-67c3684edf24",
   "metadata": {
    "tags": []
   },
   "outputs": [
    {
     "data": {
      "text/plain": [
       "array([ 31433.26244543, 477445.42989356, 414018.9278769 , ...,\n",
       "       459060.3773493 , 251325.80308405, 539123.32510283])"
      ]
     },
     "execution_count": 24,
     "metadata": {},
     "output_type": "execute_result"
    }
   ],
   "source": [
    "lr2 = LinearRegression()\n",
    "lr2.fit(x_train_scaled, y_train)\n",
    "pred_lr2 = lr2.predict(x_train_scaled)\n",
    "pred_val_lr2 = lr2.predict(x_validate_scaled)\n",
    "pred_lr2"
   ]
  },
  {
   "cell_type": "code",
   "execution_count": 25,
   "id": "5bea72c3-026b-4100-93b0-9461587c98f2",
   "metadata": {
    "tags": []
   },
   "outputs": [
    {
     "data": {
      "text/plain": [
       "(525062.0832251103, 0.3965861871867771)"
      ]
     },
     "execution_count": 25,
     "metadata": {},
     "output_type": "execute_result"
    }
   ],
   "source": [
    "mets(y_train, pred_lr2)"
   ]
  },
  {
   "cell_type": "code",
   "execution_count": 26,
   "id": "33501c86-4b22-491f-a282-6b07a3d7d5e2",
   "metadata": {
    "tags": []
   },
   "outputs": [
    {
     "data": {
      "text/plain": [
       "(549488.7764629223, 0.3952040892013299)"
      ]
     },
     "execution_count": 26,
     "metadata": {},
     "output_type": "execute_result"
    }
   ],
   "source": [
    "rmse, r2 = mets(y_validate, pred_val_lr2)\n",
    "rmse, r2"
   ]
  },
  {
   "cell_type": "code",
   "execution_count": 28,
   "id": "5e197a6e-ab23-4e4a-9193-63ba13e58a38",
   "metadata": {
    "tags": []
   },
   "outputs": [
    {
     "data": {
      "text/html": [
       "<div>\n",
       "<style scoped>\n",
       "    .dataframe tbody tr th:only-of-type {\n",
       "        vertical-align: middle;\n",
       "    }\n",
       "\n",
       "    .dataframe tbody tr th {\n",
       "        vertical-align: top;\n",
       "    }\n",
       "\n",
       "    .dataframe thead th {\n",
       "        text-align: right;\n",
       "    }\n",
       "</style>\n",
       "<table border=\"1\" class=\"dataframe\">\n",
       "  <thead>\n",
       "    <tr style=\"text-align: right;\">\n",
       "      <th></th>\n",
       "      <th>Model</th>\n",
       "      <th>RMSE</th>\n",
       "      <th>R2</th>\n",
       "    </tr>\n",
       "  </thead>\n",
       "  <tbody>\n",
       "    <tr>\n",
       "      <th>0</th>\n",
       "      <td>Baseline</td>\n",
       "      <td>675932.040919</td>\n",
       "      <td>0.000000</td>\n",
       "    </tr>\n",
       "    <tr>\n",
       "      <th>1</th>\n",
       "      <td>OLS_1</td>\n",
       "      <td>561893.081370</td>\n",
       "      <td>0.367590</td>\n",
       "    </tr>\n",
       "    <tr>\n",
       "      <th>2</th>\n",
       "      <td>OLS</td>\n",
       "      <td>549488.776463</td>\n",
       "      <td>0.395204</td>\n",
       "    </tr>\n",
       "  </tbody>\n",
       "</table>\n",
       "</div>"
      ],
      "text/plain": [
       "      Model           RMSE        R2\n",
       "0  Baseline  675932.040919  0.000000\n",
       "1     OLS_1  561893.081370  0.367590\n",
       "2       OLS  549488.776463  0.395204"
      ]
     },
     "execution_count": 28,
     "metadata": {},
     "output_type": "execute_result"
    }
   ],
   "source": [
    "mets_df.loc[2] = ['OLS', rmse, r2]\n",
    "mets_df"
   ]
  },
  {
   "cell_type": "markdown",
   "id": "dbb6f2e5-6804-4989-a216-ed4bf7dacb3a",
   "metadata": {},
   "source": [
    "#### LassoLars"
   ]
  },
  {
   "cell_type": "code",
   "execution_count": 50,
   "id": "936236d3-871b-4f25-bc18-92cf077200c0",
   "metadata": {
    "tags": []
   },
   "outputs": [],
   "source": [
    "lars = LassoLars(alpha=3)\n",
    "lars.fit(x_train_scaled, y_train)\n",
    "pred_lars = lars.predict(x_train_scaled)\n",
    "pred_lars_val = lars.predict(x_validate_scaled)"
   ]
  },
  {
   "cell_type": "code",
   "execution_count": 51,
   "id": "93fa7793-fd19-476c-90ad-be52971a9b09",
   "metadata": {
    "tags": []
   },
   "outputs": [
    {
     "data": {
      "text/plain": [
       "(525062.0833216403, 0.39658618696490777)"
      ]
     },
     "execution_count": 51,
     "metadata": {},
     "output_type": "execute_result"
    }
   ],
   "source": [
    "mets(y_train, pred_lars)"
   ]
  },
  {
   "cell_type": "code",
   "execution_count": 31,
   "id": "c790f1f6-ac82-40ae-93d8-542d99ad6f83",
   "metadata": {
    "tags": []
   },
   "outputs": [],
   "source": [
    "def eval_score(y_validate, pred_val):\n",
    "    rmse, r2 = mets(y_validate, pred_val)\n",
    "    return rmse, r2\n",
    "\n",
    "def more_table(row, row_name, res1, res2):\n",
    "    rmse, r2 = res1, res2\n",
    "    mets_df.loc[row] = [row_name, rmse, r2]\n",
    "    return mets_df"
   ]
  },
  {
   "cell_type": "code",
   "execution_count": 52,
   "id": "3ca10598-f529-4a41-8af1-2506847ddd5c",
   "metadata": {
    "tags": []
   },
   "outputs": [
    {
     "data": {
      "text/html": [
       "<div>\n",
       "<style scoped>\n",
       "    .dataframe tbody tr th:only-of-type {\n",
       "        vertical-align: middle;\n",
       "    }\n",
       "\n",
       "    .dataframe tbody tr th {\n",
       "        vertical-align: top;\n",
       "    }\n",
       "\n",
       "    .dataframe thead th {\n",
       "        text-align: right;\n",
       "    }\n",
       "</style>\n",
       "<table border=\"1\" class=\"dataframe\">\n",
       "  <thead>\n",
       "    <tr style=\"text-align: right;\">\n",
       "      <th></th>\n",
       "      <th>Model</th>\n",
       "      <th>RMSE</th>\n",
       "      <th>R2</th>\n",
       "    </tr>\n",
       "  </thead>\n",
       "  <tbody>\n",
       "    <tr>\n",
       "      <th>0</th>\n",
       "      <td>Baseline</td>\n",
       "      <td>6.759320e+05</td>\n",
       "      <td>0.000000e+00</td>\n",
       "    </tr>\n",
       "    <tr>\n",
       "      <th>1</th>\n",
       "      <td>OLS_1</td>\n",
       "      <td>5.618931e+05</td>\n",
       "      <td>3.675902e-01</td>\n",
       "    </tr>\n",
       "    <tr>\n",
       "      <th>2</th>\n",
       "      <td>OLS</td>\n",
       "      <td>5.494888e+05</td>\n",
       "      <td>3.952041e-01</td>\n",
       "    </tr>\n",
       "    <tr>\n",
       "      <th>3</th>\n",
       "      <td>Lars</td>\n",
       "      <td>5.494889e+05</td>\n",
       "      <td>3.952038e-01</td>\n",
       "    </tr>\n",
       "    <tr>\n",
       "      <th>4</th>\n",
       "      <td>Poly Reg</td>\n",
       "      <td>5.059000e+05</td>\n",
       "      <td>4.873505e-01</td>\n",
       "    </tr>\n",
       "    <tr>\n",
       "      <th>5</th>\n",
       "      <td>TweedieRegressor 1</td>\n",
       "      <td>5.724985e+05</td>\n",
       "      <td>3.434921e-01</td>\n",
       "    </tr>\n",
       "    <tr>\n",
       "      <th>6</th>\n",
       "      <td>TweedieRegressor 2</td>\n",
       "      <td>5.494888e+05</td>\n",
       "      <td>3.952041e-01</td>\n",
       "    </tr>\n",
       "    <tr>\n",
       "      <th>7</th>\n",
       "      <td>TweedieRegressor 2</td>\n",
       "      <td>2.168622e+09</td>\n",
       "      <td>-9.420171e+06</td>\n",
       "    </tr>\n",
       "  </tbody>\n",
       "</table>\n",
       "</div>"
      ],
      "text/plain": [
       "                Model          RMSE            R2\n",
       "0            Baseline  6.759320e+05  0.000000e+00\n",
       "1               OLS_1  5.618931e+05  3.675902e-01\n",
       "2                 OLS  5.494888e+05  3.952041e-01\n",
       "3                Lars  5.494889e+05  3.952038e-01\n",
       "4            Poly Reg  5.059000e+05  4.873505e-01\n",
       "5  TweedieRegressor 1  5.724985e+05  3.434921e-01\n",
       "6  TweedieRegressor 2  5.494888e+05  3.952041e-01\n",
       "7  TweedieRegressor 2  2.168622e+09 -9.420171e+06"
      ]
     },
     "execution_count": 52,
     "metadata": {},
     "output_type": "execute_result"
    }
   ],
   "source": [
    "rmse, r2= eval_score(y_validate, pred_lars_val)\n",
    "more_table(3, 'Lars', rmse, r2)"
   ]
  },
  {
   "cell_type": "markdown",
   "id": "20ac0177-1e51-4c77-904a-34b29c4a034b",
   "metadata": {},
   "source": [
    "#### Polynomial Regression"
   ]
  },
  {
   "cell_type": "code",
   "execution_count": 34,
   "id": "b84372ee-154a-41bc-ad37-6d3788f9d3fb",
   "metadata": {
    "tags": []
   },
   "outputs": [],
   "source": [
    "pf = PolynomialFeatures(degree=2)\n",
    "x_train_scaled_degree2 = pf.fit_transform(x_train_scaled)\n",
    "x_validate_degree2 = pf.transform(x_validate_scaled)"
   ]
  },
  {
   "cell_type": "code",
   "execution_count": 35,
   "id": "a243030b-31ad-4226-8b01-6753dff07108",
   "metadata": {
    "tags": []
   },
   "outputs": [],
   "source": [
    "pr = LinearRegression()\n",
    "pr.fit(x_train_scaled_degree2, y_train)\n",
    "pred_pr = pr.predict(x_train_scaled_degree2)\n",
    "pred_val_pr = pr.predict(x_validate_degree2)"
   ]
  },
  {
   "cell_type": "code",
   "execution_count": 36,
   "id": "a656245e-c4c8-49bf-a74a-51b73e0658bb",
   "metadata": {
    "tags": []
   },
   "outputs": [
    {
     "data": {
      "text/plain": [
       "(494064.1748188837, 0.46573015771649195)"
      ]
     },
     "execution_count": 36,
     "metadata": {},
     "output_type": "execute_result"
    }
   ],
   "source": [
    "mets(y_train, pred_pr)"
   ]
  },
  {
   "cell_type": "code",
   "execution_count": 37,
   "id": "6d943d14-905f-4f32-8924-5da3517c712c",
   "metadata": {
    "tags": []
   },
   "outputs": [
    {
     "data": {
      "text/html": [
       "<div>\n",
       "<style scoped>\n",
       "    .dataframe tbody tr th:only-of-type {\n",
       "        vertical-align: middle;\n",
       "    }\n",
       "\n",
       "    .dataframe tbody tr th {\n",
       "        vertical-align: top;\n",
       "    }\n",
       "\n",
       "    .dataframe thead th {\n",
       "        text-align: right;\n",
       "    }\n",
       "</style>\n",
       "<table border=\"1\" class=\"dataframe\">\n",
       "  <thead>\n",
       "    <tr style=\"text-align: right;\">\n",
       "      <th></th>\n",
       "      <th>Model</th>\n",
       "      <th>RMSE</th>\n",
       "      <th>R2</th>\n",
       "    </tr>\n",
       "  </thead>\n",
       "  <tbody>\n",
       "    <tr>\n",
       "      <th>0</th>\n",
       "      <td>Baseline</td>\n",
       "      <td>675932.040919</td>\n",
       "      <td>0.000000</td>\n",
       "    </tr>\n",
       "    <tr>\n",
       "      <th>1</th>\n",
       "      <td>OLS_1</td>\n",
       "      <td>561893.081370</td>\n",
       "      <td>0.367590</td>\n",
       "    </tr>\n",
       "    <tr>\n",
       "      <th>2</th>\n",
       "      <td>OLS</td>\n",
       "      <td>549488.776463</td>\n",
       "      <td>0.395204</td>\n",
       "    </tr>\n",
       "    <tr>\n",
       "      <th>3</th>\n",
       "      <td>Lars</td>\n",
       "      <td>549488.827599</td>\n",
       "      <td>0.395204</td>\n",
       "    </tr>\n",
       "    <tr>\n",
       "      <th>4</th>\n",
       "      <td>Poly Reg</td>\n",
       "      <td>505899.980957</td>\n",
       "      <td>0.487351</td>\n",
       "    </tr>\n",
       "  </tbody>\n",
       "</table>\n",
       "</div>"
      ],
      "text/plain": [
       "      Model           RMSE        R2\n",
       "0  Baseline  675932.040919  0.000000\n",
       "1     OLS_1  561893.081370  0.367590\n",
       "2       OLS  549488.776463  0.395204\n",
       "3      Lars  549488.827599  0.395204\n",
       "4  Poly Reg  505899.980957  0.487351"
      ]
     },
     "execution_count": 37,
     "metadata": {},
     "output_type": "execute_result"
    }
   ],
   "source": [
    "rmse, r2 = eval_score(y_validate, pred_val_pr)\n",
    "more_table(4, 'Poly Reg deg 2', rmse, r2)"
   ]
  },
  {
   "cell_type": "code",
   "execution_count": 53,
   "id": "4e49e416-fdb2-434f-ac51-013c34a60cb9",
   "metadata": {
    "tags": []
   },
   "outputs": [],
   "source": [
    "pf = PolynomialFeatures(degree=3)\n",
    "x_train_scaled_degree3 = pf.fit_transform(x_train_scaled)\n",
    "x_validate_degree3 = pf.transform(x_validate_scaled)\n",
    "pr = LinearRegression()\n",
    "pr.fit(x_train_scaled_degree3, y_train)\n",
    "pred_pr = pr.predict(x_train_scaled_degree3)\n",
    "pred_val_pr = pr.predict(x_validate_degree3)"
   ]
  },
  {
   "cell_type": "code",
   "execution_count": 54,
   "id": "3b10c29c-04ec-454d-879b-aa966d56011c",
   "metadata": {
    "tags": []
   },
   "outputs": [
    {
     "data": {
      "text/plain": [
       "(484031.4162331801, 0.48720824466364754)"
      ]
     },
     "execution_count": 54,
     "metadata": {},
     "output_type": "execute_result"
    }
   ],
   "source": [
    "mets(y_train, pred_pr)"
   ]
  },
  {
   "cell_type": "code",
   "execution_count": 56,
   "id": "14cf9f9f-2b7a-4a90-9b2c-7bad240cc5cd",
   "metadata": {
    "tags": []
   },
   "outputs": [
    {
     "data": {
      "text/html": [
       "<div>\n",
       "<style scoped>\n",
       "    .dataframe tbody tr th:only-of-type {\n",
       "        vertical-align: middle;\n",
       "    }\n",
       "\n",
       "    .dataframe tbody tr th {\n",
       "        vertical-align: top;\n",
       "    }\n",
       "\n",
       "    .dataframe thead th {\n",
       "        text-align: right;\n",
       "    }\n",
       "</style>\n",
       "<table border=\"1\" class=\"dataframe\">\n",
       "  <thead>\n",
       "    <tr style=\"text-align: right;\">\n",
       "      <th></th>\n",
       "      <th>Model</th>\n",
       "      <th>RMSE</th>\n",
       "      <th>R2</th>\n",
       "    </tr>\n",
       "  </thead>\n",
       "  <tbody>\n",
       "    <tr>\n",
       "      <th>0</th>\n",
       "      <td>Baseline</td>\n",
       "      <td>6.759320e+05</td>\n",
       "      <td>0.000000e+00</td>\n",
       "    </tr>\n",
       "    <tr>\n",
       "      <th>1</th>\n",
       "      <td>OLS_1</td>\n",
       "      <td>5.618931e+05</td>\n",
       "      <td>3.675902e-01</td>\n",
       "    </tr>\n",
       "    <tr>\n",
       "      <th>2</th>\n",
       "      <td>OLS</td>\n",
       "      <td>5.494888e+05</td>\n",
       "      <td>3.952041e-01</td>\n",
       "    </tr>\n",
       "    <tr>\n",
       "      <th>3</th>\n",
       "      <td>Lars</td>\n",
       "      <td>5.494889e+05</td>\n",
       "      <td>3.952038e-01</td>\n",
       "    </tr>\n",
       "    <tr>\n",
       "      <th>4</th>\n",
       "      <td>Poly Reg</td>\n",
       "      <td>5.059000e+05</td>\n",
       "      <td>4.873505e-01</td>\n",
       "    </tr>\n",
       "    <tr>\n",
       "      <th>5</th>\n",
       "      <td>Poly Reg deg3</td>\n",
       "      <td>5.095069e+05</td>\n",
       "      <td>4.800143e-01</td>\n",
       "    </tr>\n",
       "    <tr>\n",
       "      <th>6</th>\n",
       "      <td>TweedieRegressor 2</td>\n",
       "      <td>5.494888e+05</td>\n",
       "      <td>3.952041e-01</td>\n",
       "    </tr>\n",
       "    <tr>\n",
       "      <th>7</th>\n",
       "      <td>TweedieRegressor 2</td>\n",
       "      <td>2.168622e+09</td>\n",
       "      <td>-9.420171e+06</td>\n",
       "    </tr>\n",
       "  </tbody>\n",
       "</table>\n",
       "</div>"
      ],
      "text/plain": [
       "                Model          RMSE            R2\n",
       "0            Baseline  6.759320e+05  0.000000e+00\n",
       "1               OLS_1  5.618931e+05  3.675902e-01\n",
       "2                 OLS  5.494888e+05  3.952041e-01\n",
       "3                Lars  5.494889e+05  3.952038e-01\n",
       "4            Poly Reg  5.059000e+05  4.873505e-01\n",
       "5       Poly Reg deg3  5.095069e+05  4.800143e-01\n",
       "6  TweedieRegressor 2  5.494888e+05  3.952041e-01\n",
       "7  TweedieRegressor 2  2.168622e+09 -9.420171e+06"
      ]
     },
     "execution_count": 56,
     "metadata": {},
     "output_type": "execute_result"
    }
   ],
   "source": [
    "rmse, r2 = eval_score(y_validate, pred_val_pr)\n",
    "more_table(5, 'Poly Reg deg3', rmse, r2)"
   ]
  },
  {
   "cell_type": "markdown",
   "id": "0e5620ad-6cc2-46a2-81db-75005ba8c15b",
   "metadata": {},
   "source": [
    "#### TweedieRegressor (GLM)"
   ]
  },
  {
   "cell_type": "code",
   "execution_count": 38,
   "id": "e1a92c32-6e83-4d46-84c3-1f64bd390924",
   "metadata": {
    "tags": []
   },
   "outputs": [],
   "source": [
    "glm = TweedieRegressor(power=1, alpha=0)\n",
    "glm.fit(x_train_scaled, y_train)\n",
    "pred_glm = glm.predict(x_train_scaled)\n",
    "pred_val_glm = glm.predict(x_validate_scaled)"
   ]
  },
  {
   "cell_type": "code",
   "execution_count": 39,
   "id": "b89eccfe-ba5e-4ffd-a386-4a188b8671cd",
   "metadata": {
    "tags": []
   },
   "outputs": [
    {
     "data": {
      "text/plain": [
       "(4203485.323721793, -37.67345775632661)"
      ]
     },
     "execution_count": 39,
     "metadata": {},
     "output_type": "execute_result"
    }
   ],
   "source": [
    "mets(y_train, pred_glm)"
   ]
  },
  {
   "cell_type": "code",
   "execution_count": 40,
   "id": "cebe84fc-c948-41d1-b233-8dc58e31f86d",
   "metadata": {
    "tags": []
   },
   "outputs": [
    {
     "data": {
      "text/html": [
       "<div>\n",
       "<style scoped>\n",
       "    .dataframe tbody tr th:only-of-type {\n",
       "        vertical-align: middle;\n",
       "    }\n",
       "\n",
       "    .dataframe tbody tr th {\n",
       "        vertical-align: top;\n",
       "    }\n",
       "\n",
       "    .dataframe thead th {\n",
       "        text-align: right;\n",
       "    }\n",
       "</style>\n",
       "<table border=\"1\" class=\"dataframe\">\n",
       "  <thead>\n",
       "    <tr style=\"text-align: right;\">\n",
       "      <th></th>\n",
       "      <th>Model</th>\n",
       "      <th>RMSE</th>\n",
       "      <th>R2</th>\n",
       "    </tr>\n",
       "  </thead>\n",
       "  <tbody>\n",
       "    <tr>\n",
       "      <th>0</th>\n",
       "      <td>Baseline</td>\n",
       "      <td>675932.040919</td>\n",
       "      <td>0.000000</td>\n",
       "    </tr>\n",
       "    <tr>\n",
       "      <th>1</th>\n",
       "      <td>OLS_1</td>\n",
       "      <td>561893.081370</td>\n",
       "      <td>0.367590</td>\n",
       "    </tr>\n",
       "    <tr>\n",
       "      <th>2</th>\n",
       "      <td>OLS</td>\n",
       "      <td>549488.776463</td>\n",
       "      <td>0.395204</td>\n",
       "    </tr>\n",
       "    <tr>\n",
       "      <th>3</th>\n",
       "      <td>Lars</td>\n",
       "      <td>549488.827599</td>\n",
       "      <td>0.395204</td>\n",
       "    </tr>\n",
       "    <tr>\n",
       "      <th>4</th>\n",
       "      <td>Poly Reg</td>\n",
       "      <td>505899.980957</td>\n",
       "      <td>0.487351</td>\n",
       "    </tr>\n",
       "    <tr>\n",
       "      <th>5</th>\n",
       "      <td>TweedieRegressor 1</td>\n",
       "      <td>572498.522971</td>\n",
       "      <td>0.343492</td>\n",
       "    </tr>\n",
       "  </tbody>\n",
       "</table>\n",
       "</div>"
      ],
      "text/plain": [
       "                Model           RMSE        R2\n",
       "0            Baseline  675932.040919  0.000000\n",
       "1               OLS_1  561893.081370  0.367590\n",
       "2                 OLS  549488.776463  0.395204\n",
       "3                Lars  549488.827599  0.395204\n",
       "4            Poly Reg  505899.980957  0.487351\n",
       "5  TweedieRegressor 1  572498.522971  0.343492"
      ]
     },
     "execution_count": 40,
     "metadata": {},
     "output_type": "execute_result"
    }
   ],
   "source": [
    "rmse, r2 = eval_score(y_validate, pred_val_glm)\n",
    "more_table(6, 'TweedieRegressor 1', rmse, r2)"
   ]
  },
  {
   "cell_type": "code",
   "execution_count": 41,
   "id": "6864ebef-c7fa-45b7-9cdb-432d2568950b",
   "metadata": {
    "tags": []
   },
   "outputs": [],
   "source": [
    "glm2 = TweedieRegressor(power=0, alpha=0)\n",
    "glm2.fit(x_train_scaled, y_train)\n",
    "pred_glm2 = glm2.predict(x_train_scaled)\n",
    "pred_val_glm2 = glm2.predict(x_validate_scaled)"
   ]
  },
  {
   "cell_type": "code",
   "execution_count": 42,
   "id": "66d32ff7-db9b-4e11-bf5c-7d3fa8783d57",
   "metadata": {
    "tags": []
   },
   "outputs": [
    {
     "data": {
      "text/plain": [
       "(525062.0832251103, 0.39658618718677696)"
      ]
     },
     "execution_count": 42,
     "metadata": {},
     "output_type": "execute_result"
    }
   ],
   "source": [
    "mets(y_train, pred_glm2)"
   ]
  },
  {
   "cell_type": "code",
   "execution_count": 43,
   "id": "c7c480ee-f8e7-4014-9840-d5b273debe99",
   "metadata": {
    "tags": []
   },
   "outputs": [
    {
     "data": {
      "text/html": [
       "<div>\n",
       "<style scoped>\n",
       "    .dataframe tbody tr th:only-of-type {\n",
       "        vertical-align: middle;\n",
       "    }\n",
       "\n",
       "    .dataframe tbody tr th {\n",
       "        vertical-align: top;\n",
       "    }\n",
       "\n",
       "    .dataframe thead th {\n",
       "        text-align: right;\n",
       "    }\n",
       "</style>\n",
       "<table border=\"1\" class=\"dataframe\">\n",
       "  <thead>\n",
       "    <tr style=\"text-align: right;\">\n",
       "      <th></th>\n",
       "      <th>Model</th>\n",
       "      <th>RMSE</th>\n",
       "      <th>R2</th>\n",
       "    </tr>\n",
       "  </thead>\n",
       "  <tbody>\n",
       "    <tr>\n",
       "      <th>0</th>\n",
       "      <td>Baseline</td>\n",
       "      <td>675932.040919</td>\n",
       "      <td>0.000000</td>\n",
       "    </tr>\n",
       "    <tr>\n",
       "      <th>1</th>\n",
       "      <td>OLS_1</td>\n",
       "      <td>561893.081370</td>\n",
       "      <td>0.367590</td>\n",
       "    </tr>\n",
       "    <tr>\n",
       "      <th>2</th>\n",
       "      <td>OLS</td>\n",
       "      <td>549488.776463</td>\n",
       "      <td>0.395204</td>\n",
       "    </tr>\n",
       "    <tr>\n",
       "      <th>3</th>\n",
       "      <td>Lars</td>\n",
       "      <td>549488.827599</td>\n",
       "      <td>0.395204</td>\n",
       "    </tr>\n",
       "    <tr>\n",
       "      <th>4</th>\n",
       "      <td>Poly Reg</td>\n",
       "      <td>505899.980957</td>\n",
       "      <td>0.487351</td>\n",
       "    </tr>\n",
       "    <tr>\n",
       "      <th>5</th>\n",
       "      <td>TweedieRegressor 1</td>\n",
       "      <td>572498.522971</td>\n",
       "      <td>0.343492</td>\n",
       "    </tr>\n",
       "    <tr>\n",
       "      <th>6</th>\n",
       "      <td>TweedieRegressor 2</td>\n",
       "      <td>549488.776590</td>\n",
       "      <td>0.395204</td>\n",
       "    </tr>\n",
       "  </tbody>\n",
       "</table>\n",
       "</div>"
      ],
      "text/plain": [
       "                Model           RMSE        R2\n",
       "0            Baseline  675932.040919  0.000000\n",
       "1               OLS_1  561893.081370  0.367590\n",
       "2                 OLS  549488.776463  0.395204\n",
       "3                Lars  549488.827599  0.395204\n",
       "4            Poly Reg  505899.980957  0.487351\n",
       "5  TweedieRegressor 1  572498.522971  0.343492\n",
       "6  TweedieRegressor 2  549488.776590  0.395204"
      ]
     },
     "execution_count": 43,
     "metadata": {},
     "output_type": "execute_result"
    }
   ],
   "source": [
    "rmse, r2 = eval_score(y_validate, pred_val_glm2)\n",
    "more_table(7, 'TweedieRegressor 2', rmse, r2)"
   ]
  },
  {
   "cell_type": "code",
   "execution_count": 44,
   "id": "06206822-3f2a-4467-b111-5b3bd119e477",
   "metadata": {
    "tags": []
   },
   "outputs": [],
   "source": [
    "glm3 = TweedieRegressor(power=2, alpha=0)\n",
    "glm3.fit(x_train_scaled, y_train)\n",
    "pred_glm3 = glm3.predict(x_train_scaled)\n",
    "pred_val_glm3 = glm3.predict(x_validate_scaled)"
   ]
  },
  {
   "cell_type": "code",
   "execution_count": 45,
   "id": "93734cf2-69a8-449f-a485-46e8472147b6",
   "metadata": {
    "tags": []
   },
   "outputs": [
    {
     "data": {
      "text/plain": [
       "(93123688143136.78, -1.898078930514965e+16)"
      ]
     },
     "execution_count": 45,
     "metadata": {},
     "output_type": "execute_result"
    }
   ],
   "source": [
    "mets(y_train, pred_glm3)"
   ]
  },
  {
   "cell_type": "code",
   "execution_count": 46,
   "id": "32505109-0cd1-4989-ac9a-bc414fbd7545",
   "metadata": {
    "tags": []
   },
   "outputs": [
    {
     "data": {
      "text/html": [
       "<div>\n",
       "<style scoped>\n",
       "    .dataframe tbody tr th:only-of-type {\n",
       "        vertical-align: middle;\n",
       "    }\n",
       "\n",
       "    .dataframe tbody tr th {\n",
       "        vertical-align: top;\n",
       "    }\n",
       "\n",
       "    .dataframe thead th {\n",
       "        text-align: right;\n",
       "    }\n",
       "</style>\n",
       "<table border=\"1\" class=\"dataframe\">\n",
       "  <thead>\n",
       "    <tr style=\"text-align: right;\">\n",
       "      <th></th>\n",
       "      <th>Model</th>\n",
       "      <th>RMSE</th>\n",
       "      <th>R2</th>\n",
       "    </tr>\n",
       "  </thead>\n",
       "  <tbody>\n",
       "    <tr>\n",
       "      <th>0</th>\n",
       "      <td>Baseline</td>\n",
       "      <td>6.759320e+05</td>\n",
       "      <td>0.000000e+00</td>\n",
       "    </tr>\n",
       "    <tr>\n",
       "      <th>1</th>\n",
       "      <td>OLS_1</td>\n",
       "      <td>5.618931e+05</td>\n",
       "      <td>3.675902e-01</td>\n",
       "    </tr>\n",
       "    <tr>\n",
       "      <th>2</th>\n",
       "      <td>OLS</td>\n",
       "      <td>5.494888e+05</td>\n",
       "      <td>3.952041e-01</td>\n",
       "    </tr>\n",
       "    <tr>\n",
       "      <th>3</th>\n",
       "      <td>Lars</td>\n",
       "      <td>5.494888e+05</td>\n",
       "      <td>3.952040e-01</td>\n",
       "    </tr>\n",
       "    <tr>\n",
       "      <th>4</th>\n",
       "      <td>Poly Reg</td>\n",
       "      <td>5.059000e+05</td>\n",
       "      <td>4.873505e-01</td>\n",
       "    </tr>\n",
       "    <tr>\n",
       "      <th>5</th>\n",
       "      <td>TweedieRegressor 1</td>\n",
       "      <td>5.724985e+05</td>\n",
       "      <td>3.434921e-01</td>\n",
       "    </tr>\n",
       "    <tr>\n",
       "      <th>6</th>\n",
       "      <td>TweedieRegressor 2</td>\n",
       "      <td>5.494888e+05</td>\n",
       "      <td>3.952041e-01</td>\n",
       "    </tr>\n",
       "    <tr>\n",
       "      <th>7</th>\n",
       "      <td>TweedieRegressor 2</td>\n",
       "      <td>2.168622e+09</td>\n",
       "      <td>-9.420171e+06</td>\n",
       "    </tr>\n",
       "  </tbody>\n",
       "</table>\n",
       "</div>"
      ],
      "text/plain": [
       "                Model          RMSE            R2\n",
       "0            Baseline  6.759320e+05  0.000000e+00\n",
       "1               OLS_1  5.618931e+05  3.675902e-01\n",
       "2                 OLS  5.494888e+05  3.952041e-01\n",
       "3                Lars  5.494888e+05  3.952040e-01\n",
       "4            Poly Reg  5.059000e+05  4.873505e-01\n",
       "5  TweedieRegressor 1  5.724985e+05  3.434921e-01\n",
       "6  TweedieRegressor 2  5.494888e+05  3.952041e-01\n",
       "7  TweedieRegressor 2  2.168622e+09 -9.420171e+06"
      ]
     },
     "execution_count": 46,
     "metadata": {},
     "output_type": "execute_result"
    }
   ],
   "source": [
    "rmse, r2 = eval_score(y_validate, pred_val_glm3)\n",
    "more_table(8, 'TweedieRegressor 2', rmse, r2)"
   ]
  },
  {
   "cell_type": "markdown",
   "id": "955cc438-52dc-4cee-89ef-75d45eeaeb64",
   "metadata": {},
   "source": [
    "Baseline is off by about $675,932\n",
    "\n",
    "Best model Poly Reg is off by about $505,900\n",
    "\n",
    "Percent of variance (R$^2$) by Poly Reg is 48.73%"
   ]
  }
 ],
 "metadata": {
  "kernelspec": {
   "display_name": "Python 3 (ipykernel)",
   "language": "python",
   "name": "python3"
  },
  "language_info": {
   "codemirror_mode": {
    "name": "ipython",
    "version": 3
   },
   "file_extension": ".py",
   "mimetype": "text/x-python",
   "name": "python",
   "nbconvert_exporter": "python",
   "pygments_lexer": "ipython3",
   "version": "3.11.3"
  }
 },
 "nbformat": 4,
 "nbformat_minor": 5
}
